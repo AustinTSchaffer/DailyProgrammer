{
 "cells": [
  {
   "cell_type": "code",
   "execution_count": 5,
   "metadata": {
    "collapsed": true,
    "ExecuteTime": {
     "end_time": "2024-01-03T18:36:52.284110Z",
     "start_time": "2024-01-03T18:36:51.746510Z"
    }
   },
   "outputs": [],
   "source": [
    "import random\n",
    "import math\n",
    "import collections\n",
    "\n",
    "import pandas as pd\n",
    "import matplotlib.pyplot as plt\n",
    "import matplotlib.colors as mcolors\n",
    "import numpy as np\n",
    "import scipy\n",
    "import z3\n",
    "\n",
    "import sln"
   ]
  },
  {
   "cell_type": "code",
   "execution_count": 6,
   "outputs": [],
   "source": [
    "input = sln.parse_input(\"input.txt\", (None, None))\n",
    "sample_input = sln.parse_input(\"sample_input.txt\", (None, None))"
   ],
   "metadata": {
    "collapsed": false,
    "ExecuteTime": {
     "end_time": "2024-01-03T18:36:52.656879Z",
     "start_time": "2024-01-03T18:36:52.650398Z"
    }
   }
  },
  {
   "cell_type": "code",
   "execution_count": 7,
   "outputs": [
    {
     "data": {
      "text/plain": "Input(pv_vectors=[PV_Vector_3D(p=(19, 13, 30), v=(-2, 1, -2)), PV_Vector_3D(p=(18, 19, 22), v=(-1, -1, -2)), PV_Vector_3D(p=(20, 25, 34), v=(-2, -2, -4)), PV_Vector_3D(p=(12, 31, 28), v=(-1, -2, -1)), PV_Vector_3D(p=(20, 19, 15), v=(1, -5, -3))], search_space=(None, None))"
     },
     "execution_count": 7,
     "metadata": {},
     "output_type": "execute_result"
    }
   ],
   "source": [
    "sample_input"
   ],
   "metadata": {
    "collapsed": false,
    "ExecuteTime": {
     "end_time": "2024-01-03T18:36:53.406835Z",
     "start_time": "2024-01-03T18:36:53.401932Z"
    }
   }
  },
  {
   "cell_type": "code",
   "execution_count": 8,
   "outputs": [],
   "source": [
    "sample_pv_vectors_tups = [\n",
    "    (*vec.p, *vec.v)\n",
    "    for vec in sample_input.pv_vectors\n",
    "]\n",
    "\n",
    "input_pv_vectors_tups = [\n",
    "    (*vec.p, *vec.v)\n",
    "    for vec in input.pv_vectors\n",
    "]"
   ],
   "metadata": {
    "collapsed": false,
    "ExecuteTime": {
     "end_time": "2024-01-03T18:36:54.035841Z",
     "start_time": "2024-01-03T18:36:54.032327Z"
    }
   }
  },
  {
   "cell_type": "code",
   "execution_count": 9,
   "outputs": [],
   "source": [
    "s = z3.Solver()\n",
    "\n",
    "x, y, z, vx, vy, vz = z3.Ints(\"x y z vx vy vz\")\n",
    "\n",
    "for i, pv_vec in enumerate(sample_input.pv_vectors, start=1):\n",
    "    t = z3.Int(f't_{i}')\n",
    "    s.add(t > 0)\n",
    "    s.add(x + (t * vx) - (t * pv_vec.v[0]) == pv_vec.p[0])\n",
    "    s.add(y + (t * vy) - (t * pv_vec.v[1]) == pv_vec.p[1])\n",
    "    s.add(z + (t * vz) - (t * pv_vec.v[2]) == pv_vec.p[2])\n"
   ],
   "metadata": {
    "collapsed": false,
    "ExecuteTime": {
     "end_time": "2024-01-03T18:36:56.424647Z",
     "start_time": "2024-01-03T18:36:56.394164Z"
    }
   }
  },
  {
   "cell_type": "code",
   "execution_count": 10,
   "outputs": [
    {
     "data": {
      "text/plain": "sat",
      "text/html": "<b>sat</b>"
     },
     "execution_count": 10,
     "metadata": {},
     "output_type": "execute_result"
    }
   ],
   "source": [
    "s.check()"
   ],
   "metadata": {
    "collapsed": false,
    "ExecuteTime": {
     "end_time": "2024-01-03T18:37:17.553295Z",
     "start_time": "2024-01-03T18:37:17.497670Z"
    }
   }
  },
  {
   "cell_type": "code",
   "execution_count": 13,
   "outputs": [],
   "source": [
    "mod = s.model()"
   ],
   "metadata": {
    "collapsed": false,
    "ExecuteTime": {
     "end_time": "2024-01-03T18:37:49.936367Z",
     "start_time": "2024-01-03T18:37:49.930296Z"
    }
   }
  },
  {
   "cell_type": "code",
   "execution_count": 26,
   "outputs": [
    {
     "data": {
      "text/plain": "47",
      "text/html": "47"
     },
     "execution_count": 26,
     "metadata": {},
     "output_type": "execute_result"
    }
   ],
   "source": [
    "mod.eval(x + y + z)"
   ],
   "metadata": {
    "collapsed": false,
    "ExecuteTime": {
     "end_time": "2024-01-03T18:41:07.403734Z",
     "start_time": "2024-01-03T18:41:07.397664Z"
    }
   }
  },
  {
   "cell_type": "code",
   "execution_count": 27,
   "outputs": [
    {
     "data": {
      "text/plain": "sat",
      "text/html": "<b>sat</b>"
     },
     "execution_count": 27,
     "metadata": {},
     "output_type": "execute_result"
    }
   ],
   "source": [
    "s = z3.Solver()\n",
    "\n",
    "x, y, z, vx, vy, vz = z3.Ints(\"x y z vx vy vz\")\n",
    "\n",
    "for i, pv_vec in enumerate(input.pv_vectors, start=1):\n",
    "    t = z3.Int(f't_{i}')\n",
    "    s.add(t > 0)\n",
    "    s.add(x + (t * vx) - (t * pv_vec.v[0]) == pv_vec.p[0])\n",
    "    s.add(y + (t * vy) - (t * pv_vec.v[1]) == pv_vec.p[1])\n",
    "    s.add(z + (t * vz) - (t * pv_vec.v[2]) == pv_vec.p[2])\n",
    "\n",
    "s.check()"
   ],
   "metadata": {
    "collapsed": false,
    "ExecuteTime": {
     "end_time": "2024-01-03T18:42:04.024177Z",
     "start_time": "2024-01-03T18:42:00.766005Z"
    }
   }
  },
  {
   "cell_type": "code",
   "execution_count": 28,
   "outputs": [
    {
     "data": {
      "text/plain": "(309721960025816, 434470227085520, 164429529509188)"
     },
     "execution_count": 28,
     "metadata": {},
     "output_type": "execute_result"
    }
   ],
   "source": [
    "model = s.model()\n",
    "model[x], model[y], model[z]"
   ],
   "metadata": {
    "collapsed": false,
    "ExecuteTime": {
     "end_time": "2024-01-03T18:42:21.292564Z",
     "start_time": "2024-01-03T18:42:21.263808Z"
    }
   }
  },
  {
   "cell_type": "code",
   "execution_count": 30,
   "outputs": [
    {
     "name": "stdout",
     "output_type": "stream",
     "text": [
      "908621716620524\n"
     ]
    }
   ],
   "source": [
    "print(model.eval(x + y + z))"
   ],
   "metadata": {
    "collapsed": false,
    "ExecuteTime": {
     "end_time": "2024-01-03T18:48:40.924594Z",
     "start_time": "2024-01-03T18:48:40.917778Z"
    }
   }
  },
  {
   "cell_type": "code",
   "execution_count": null,
   "outputs": [],
   "source": [],
   "metadata": {
    "collapsed": false
   }
  }
 ],
 "metadata": {
  "kernelspec": {
   "display_name": "Python 3",
   "language": "python",
   "name": "python3"
  },
  "language_info": {
   "codemirror_mode": {
    "name": "ipython",
    "version": 2
   },
   "file_extension": ".py",
   "mimetype": "text/x-python",
   "name": "python",
   "nbconvert_exporter": "python",
   "pygments_lexer": "ipython2",
   "version": "2.7.6"
  }
 },
 "nbformat": 4,
 "nbformat_minor": 0
}

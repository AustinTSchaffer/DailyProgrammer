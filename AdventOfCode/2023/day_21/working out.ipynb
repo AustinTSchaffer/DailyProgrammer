{
 "cells": [
  {
   "cell_type": "code",
   "execution_count": 29,
   "metadata": {
    "collapsed": true,
    "ExecuteTime": {
     "end_time": "2023-12-23T01:08:59.192455Z",
     "start_time": "2023-12-23T01:08:58.980804Z"
    }
   },
   "outputs": [],
   "source": [
    "from sln import *\n",
    "import itertools\n",
    "import random\n",
    "import numpy as np"
   ]
  },
  {
   "cell_type": "code",
   "execution_count": 2,
   "outputs": [],
   "source": [
    "sample_input = parse_input('sample_input.txt')\n",
    "input = parse_input('input.txt')\n",
    "\n",
    "part_2_num_steps = 26501365\n"
   ],
   "metadata": {
    "collapsed": false,
    "ExecuteTime": {
     "end_time": "2023-12-22T22:31:52.990039Z",
     "start_time": "2023-12-22T22:31:52.984237Z"
    }
   }
  },
  {
   "cell_type": "code",
   "execution_count": 3,
   "outputs": [],
   "source": [
    "sample_input_results = {\n",
    "    step: total\n",
    "    for total, step, _ in\n",
    "    iter_num_visitable_bfs(sample_input, 98, 1148)\n",
    "}"
   ],
   "metadata": {
    "collapsed": false,
    "ExecuteTime": {
     "end_time": "2023-12-22T22:32:20.674773Z",
     "start_time": "2023-12-22T22:31:56.372340Z"
    }
   }
  },
  {
   "cell_type": "code",
   "execution_count": 4,
   "outputs": [
    {
     "data": {
      "text/plain": "(6536, 167004, 668697)"
     },
     "execution_count": 4,
     "metadata": {},
     "output_type": "execute_result"
    }
   ],
   "source": [
    "# (6536, 167004, 668697)\n",
    "sample_input_results[100], sample_input_results[500], sample_input_results[1000]"
   ],
   "metadata": {
    "collapsed": false,
    "ExecuteTime": {
     "end_time": "2023-12-22T22:32:20.684912Z",
     "start_time": "2023-12-22T22:32:20.680277Z"
    }
   }
  },
  {
   "cell_type": "code",
   "execution_count": 5,
   "outputs": [],
   "source": [
    "results = {\n",
    "    step: total\n",
    "    for total, step, _ in\n",
    "    iter_num_visitable_bfs(input, 100, 1000)\n",
    "}"
   ],
   "metadata": {
    "collapsed": false,
    "ExecuteTime": {
     "end_time": "2023-12-22T22:32:54.102953Z",
     "start_time": "2023-12-22T22:32:20.712923Z"
    }
   }
  },
  {
   "cell_type": "code",
   "execution_count": 30,
   "outputs": [],
   "source": [
    "results_skipping_in_wid = {}\n",
    "for i in range(100, 1000+1, input.width*2):\n",
    "    results_skipping_in_wid[i] = results[i]\n"
   ],
   "metadata": {
    "collapsed": false,
    "ExecuteTime": {
     "end_time": "2023-12-23T01:09:46.041066Z",
     "start_time": "2023-12-23T01:09:46.038029Z"
    }
   }
  },
  {
   "cell_type": "code",
   "execution_count": 31,
   "outputs": [
    {
     "data": {
      "text/plain": "{100: 8993, 362: 116197, 624: 344481, 886: 693845}"
     },
     "execution_count": 31,
     "metadata": {},
     "output_type": "execute_result"
    }
   ],
   "source": [
    "results_skipping_in_wid"
   ],
   "metadata": {
    "collapsed": false,
    "ExecuteTime": {
     "end_time": "2023-12-23T01:09:46.890066Z",
     "start_time": "2023-12-23T01:09:46.886647Z"
    }
   }
  },
  {
   "cell_type": "code",
   "execution_count": 32,
   "outputs": [
    {
     "data": {
      "text/plain": "([8993, 116197, 344481, 693845], [107204, 228284, 349364], [121080, 121080])"
     },
     "execution_count": 32,
     "metadata": {},
     "output_type": "execute_result"
    }
   ],
   "source": [
    "d0 = list(results_skipping_in_wid.values())\n",
    "d1 = [ b - a for a, b in itertools.pairwise(d0)]\n",
    "d2 = [ b - a for a, b in itertools.pairwise(d1)]\n",
    "\n",
    "d0, d1, d2"
   ],
   "metadata": {
    "collapsed": false,
    "ExecuteTime": {
     "end_time": "2023-12-23T01:09:48.450761Z",
     "start_time": "2023-12-23T01:09:48.447567Z"
    }
   }
  },
  {
   "cell_type": "code",
   "execution_count": 52,
   "outputs": [],
   "source": [
    "eqs = []\n",
    "ans = []\n",
    "\n",
    "for x, y in enumerate(results_skipping_in_wid.values()):\n",
    "    eqs.append([x**2, x, 1])\n",
    "    ans.append(y)\n",
    "\n",
    "x = np.linalg.solve(np.array(eqs[:3]), np.array(ans[:3]))\n",
    "\n",
    "def solve_mod_100(num_steps):\n",
    "    rescaled = (num_steps - 100) // (input.width * 2)\n",
    "    return int((x[0] * (rescaled**2)) + (x[1] * rescaled) + x[2])\n"
   ],
   "metadata": {
    "collapsed": false,
    "ExecuteTime": {
     "end_time": "2023-12-23T01:19:44.089644Z",
     "start_time": "2023-12-23T01:19:44.085758Z"
    }
   }
  },
  {
   "cell_type": "code",
   "execution_count": 56,
   "outputs": [
    {
     "data": {
      "text/plain": "1164289"
     },
     "execution_count": 56,
     "metadata": {},
     "output_type": "execute_result"
    }
   ],
   "source": [
    "solve_mod_100(1148)"
   ],
   "metadata": {
    "collapsed": false,
    "ExecuteTime": {
     "end_time": "2023-12-23T01:20:02.900248Z",
     "start_time": "2023-12-23T01:20:02.894779Z"
    }
   }
  },
  {
   "cell_type": "code",
   "execution_count": null,
   "outputs": [],
   "source": [],
   "metadata": {
    "collapsed": false
   }
  }
 ],
 "metadata": {
  "kernelspec": {
   "display_name": "Python 3",
   "language": "python",
   "name": "python3"
  },
  "language_info": {
   "codemirror_mode": {
    "name": "ipython",
    "version": 2
   },
   "file_extension": ".py",
   "mimetype": "text/x-python",
   "name": "python",
   "nbconvert_exporter": "python",
   "pygments_lexer": "ipython2",
   "version": "2.7.6"
  }
 },
 "nbformat": 4,
 "nbformat_minor": 0
}
